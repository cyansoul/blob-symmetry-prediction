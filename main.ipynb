{
 "cells": [
  {
   "cell_type": "markdown",
   "metadata": {},
   "source": [
    "## Qiu Yue 作业\n",
    "\n",
    "预测图像的**左右对称性**\n",
    "\n",
    "我们提供了一个模板代码，包括\n",
    "\n",
    "- 数据读取\n",
    "- 数据预览（观察数据集）\n",
    "- 数据预处理：图片翻转，格式转换\n",
    "- 训练框架：tensorflow的batch读取，loss计算，反向传播和准确率评估等模块\n",
    "\n",
    "只需在BasicCNN模块的network函数中注释部分填入网络结构即可进行训练、模型评估等步骤"
   ]
  },
  {
   "cell_type": "markdown",
   "metadata": {},
   "source": [
    "### 安装opencv, tensorflow\n",
    "\n",
    "pip install opencv-python\n",
    "pip install tensorflow"
   ]
  },
  {
   "cell_type": "code",
   "execution_count": 1,
   "metadata": {},
   "outputs": [],
   "source": [
    "import os\n",
    "import re\n",
    "import cv2\n",
    "import numpy as np\n",
    "import math\n",
    "import random\n",
    "\n",
    "train_fpath=\"data/blob_train_image_data/\"\n",
    "test_fpath=\"data/blob_test_image_data/\""
   ]
  },
  {
   "cell_type": "markdown",
   "metadata": {},
   "source": [
    "### 数据读取"
   ]
  },
  {
   "cell_type": "code",
   "execution_count": 2,
   "metadata": {},
   "outputs": [],
   "source": [
    "# 读取训练数据\n",
    "num_train_samples = 16000\n",
    "x_train = np.zeros((num_train_samples, 32 * 32), dtype='uint8')\n",
    "y_train = np.zeros((num_train_samples,), dtype='uint8')\n",
    "train_file_object = open(os.path.join(train_fpath, \"index_sym.txt\"))\n",
    "\n",
    "for i, filename_y in enumerate(train_file_object.readlines()):\n",
    "    filename, y = filename_y.rstrip('\\n').split(' ')\n",
    "    img = cv2.imread(os.path.join(train_fpath, filename), cv2.IMREAD_GRAYSCALE)\n",
    "    x_train[i] = img.reshape(32 * 32,)\n",
    "    y_train[i] = y\n",
    "\n",
    "# 读取测试数据\n",
    "num_test_samples = 3200\n",
    "x_test = np.zeros((num_test_samples, 32 * 32), dtype='uint8')\n",
    "y_test = np.zeros((num_test_samples, ), dtype='uint8')\n",
    "test_file_object = open(os.path.join(test_fpath, \"index_sym.txt\"))\n",
    "\n",
    "for i, filename_y in enumerate(test_file_object.readlines()):\n",
    "    filename, y = filename_y.rstrip('\\n').split(' ')\n",
    "    img = cv2.imread(os.path.join(test_fpath, filename), cv2.IMREAD_GRAYSCALE)\n",
    "    x_test[i] = img.reshape(32 * 32,)\n",
    "    y_test[i] = y\n",
    "    "
   ]
  },
  {
   "cell_type": "code",
   "execution_count": 3,
   "metadata": {},
   "outputs": [
    {
     "data": {
      "text/plain": [
       "(3200,)"
      ]
     },
     "execution_count": 3,
     "metadata": {},
     "output_type": "execute_result"
    }
   ],
   "source": [
    "y_test.shape"
   ]
  },
  {
   "cell_type": "markdown",
   "metadata": {},
   "source": [
    "### 数据预览"
   ]
  },
  {
   "cell_type": "code",
   "execution_count": 4,
   "metadata": {},
   "outputs": [
    {
     "data": {
      "image/png": "[encoded data removed]",
      "text/plain": [
       "<Figure size 144x720 with 1 Axes>"
      ]
     },
     "metadata": {
      "needs_background": "light"
     },
     "output_type": "display_data"
    }
   ],
   "source": [
    "%matplotlib inline\n",
    "import matplotlib.pyplot as plt\n",
    "plt.rcParams[\"figure.figsize\"] = (2, 10)\n",
    "\n",
    "def show_digit(img, caption='', subplot=None):\n",
    "    if subplot == None:\n",
    "        _, (subplot) = plt.subplots(1, 1)\n",
    "    imgr = img.reshape((32, 32))\n",
    "    subplot.axis('off')\n",
    "    subplot.imshow(imgr, cmap='gray')\n",
    "    plt.title(caption)\n",
    "\n",
    "index = random.randint(0, len(x_train))\n",
    "show_digit(x_train[index], 'cls is {}'.format(y_train[index]))\n"
   ]
  },
  {
   "cell_type": "markdown",
   "metadata": {},
   "source": [
    "### 将输出改为one hot形式（便于使用cross entropy loss）"
   ]
  },
  {
   "cell_type": "code",
   "execution_count": 5,
   "metadata": {},
   "outputs": [
    {
     "name": "stdout",
     "output_type": "stream",
     "text": [
      "(3200, 1024) (3200, 2)\n",
      "(16000, 1024) (16000, 2)\n"
     ]
    }
   ],
   "source": [
    "def make_one_hot(data):\n",
    "    return (np.arange(2) == data[:, None]).astype(np.integer)\n",
    "\n",
    "y_train = make_one_hot(y_train)\n",
    "y_test = make_one_hot(y_test)\n",
    "\n",
    "print(x_test.shape, y_test.shape)\n",
    "print(x_train.shape, y_train.shape)\n"
   ]
  },
  {
   "cell_type": "markdown",
   "metadata": {},
   "source": [
    "### 数据集shuffle"
   ]
  },
  {
   "cell_type": "code",
   "execution_count": 6,
   "metadata": {},
   "outputs": [
    {
     "name": "stdout",
     "output_type": "stream",
     "text": [
      "(5000, 2) (5000, 1024)\n",
      "(500, 2) (500, 1024)\n"
     ]
    }
   ],
   "source": [
    "random.seed(49)\n",
    "train_idx = list(range(y_train.shape[0]))\n",
    "random.shuffle(train_idx)\n",
    "x_train = x_train[train_idx[:5000], ]\n",
    "y_train = y_train[train_idx[:5000], ]\n",
    "test_idx = list(range(y_test.shape[0]))\n",
    "random.shuffle(test_idx)\n",
    "x_test = x_test[test_idx[:500], ]\n",
    "y_test = y_test[test_idx[:500], ]\n",
    "\n",
    "print(y_train.shape, x_train.shape)\n",
    "print(y_test.shape, x_test.shape)"
   ]
  },
  {
   "cell_type": "code",
   "execution_count": 7,
   "metadata": {},
   "outputs": [],
   "source": [
    "x_train = x_train.reshape(5000, 32*32)\n",
    "x_test = x_test.reshape(500, 32*32)"
   ]
  },
  {
   "cell_type": "code",
   "execution_count": 8,
   "metadata": {},
   "outputs": [],
   "source": [
    "x_train = x_train.astype('float32')\n",
    "x_test = x_test.astype('float32')"
   ]
  },
  {
   "cell_type": "code",
   "execution_count": 9,
   "metadata": {},
   "outputs": [
    {
     "name": "stderr",
     "output_type": "stream",
     "text": [
      "Using TensorFlow backend.\n"
     ]
    }
   ],
   "source": [
    "import tensorflow as tf\n",
    "import keras\n",
    "import numpy as np\n",
    "import re\n",
    "from keras.models import Sequential\n",
    "from keras.layers import Dense, Dropout, Flatten\n",
    "from keras.layers import Conv2D, MaxPooling2D, Activation\n",
    "from keras.optimizers import SGD\n",
    "from keras.optimizers import RMSprop\n",
    "from keras.optimizers import Adagrad\n",
    "from keras.optimizers import Adadelta\n",
    "from keras.optimizers import Adam\n",
    "from keras.optimizers import Adamax\n",
    "from keras.optimizers import Nadam"
   ]
  },
  {
   "cell_type": "code",
   "execution_count": 11,
   "metadata": {},
   "outputs": [
    {
     "name": "stdout",
     "output_type": "stream",
     "text": [
      "Train on 5000 samples, validate on 500 samples\n",
      "Epoch 1/66\n",
      "5000/5000 [==============================] - 2s 431us/step - loss: 0.8060 - acc: 0.4874 - val_loss: 0.6927 - val_acc: 0.5240\n",
      "Epoch 2/66\n",
      "5000/5000 [==============================] - 1s 274us/step - loss: 0.7468 - acc: 0.4998 - val_loss: 0.6921 - val_acc: 0.5240\n",
      "Epoch 3/66\n",
      "5000/5000 [==============================] - 1s 250us/step - loss: 0.7377 - acc: 0.4936 - val_loss: 0.6939 - val_acc: 0.4760\n",
      "Epoch 4/66\n",
      "5000/5000 [==============================] - 1s 299us/step - loss: 0.7251 - acc: 0.4944 - val_loss: 0.6935 - val_acc: 0.4760\n",
      "Epoch 5/66\n",
      "5000/5000 [==============================] - 1s 263us/step - loss: 0.7153 - acc: 0.4990 - val_loss: 0.6936 - val_acc: 0.4760\n",
      "Epoch 6/66\n",
      "5000/5000 [==============================] - 1s 269us/step - loss: 0.7113 - acc: 0.4940 - val_loss: 0.6939 - val_acc: 0.4760\n",
      "Epoch 7/66\n",
      "5000/5000 [==============================] - 1s 297us/step - loss: 0.7076 - acc: 0.5038 - val_loss: 0.6897 - val_acc: 0.5240\n",
      "Epoch 8/66\n",
      "5000/5000 [==============================] - 1s 275us/step - loss: 0.7008 - acc: 0.4980 - val_loss: 0.6881 - val_acc: 0.5260\n",
      "Epoch 9/66\n",
      "5000/5000 [==============================] - 1s 268us/step - loss: 0.6960 - acc: 0.5236 - val_loss: 0.6814 - val_acc: 0.7660\n",
      "Epoch 10/66\n",
      "5000/5000 [==============================] - 1s 271us/step - loss: 0.6861 - acc: 0.5514 - val_loss: 0.6598 - val_acc: 0.7900\n",
      "Epoch 11/66\n",
      "5000/5000 [==============================] - 2s 301us/step - loss: 0.6500 - acc: 0.6246 - val_loss: 0.5913 - val_acc: 0.8140\n",
      "Epoch 12/66\n",
      "5000/5000 [==============================] - 1s 274us/step - loss: 0.5862 - acc: 0.7148 - val_loss: 0.4955 - val_acc: 0.8040\n",
      "Epoch 13/66\n",
      "5000/5000 [==============================] - 1s 267us/step - loss: 0.5199 - acc: 0.7714 - val_loss: 0.4438 - val_acc: 0.8100\n",
      "Epoch 14/66\n",
      "5000/5000 [==============================] - 2s 300us/step - loss: 0.4848 - acc: 0.7978 - val_loss: 0.4308 - val_acc: 0.8220\n",
      "Epoch 15/66\n",
      "5000/5000 [==============================] - 1s 269us/step - loss: 0.4692 - acc: 0.7998 - val_loss: 0.4162 - val_acc: 0.8100\n",
      "Epoch 16/66\n",
      "5000/5000 [==============================] - 1s 259us/step - loss: 0.4482 - acc: 0.8142 - val_loss: 0.4079 - val_acc: 0.8160\n",
      "Epoch 17/66\n",
      "5000/5000 [==============================] - 2s 305us/step - loss: 0.4417 - acc: 0.8152 - val_loss: 0.4095 - val_acc: 0.8240\n",
      "Epoch 18/66\n",
      "5000/5000 [==============================] - 1s 267us/step - loss: 0.4431 - acc: 0.8116 - val_loss: 0.3911 - val_acc: 0.8340\n",
      "Epoch 19/66\n",
      "5000/5000 [==============================] - 1s 277us/step - loss: 0.4303 - acc: 0.8146 - val_loss: 0.3831 - val_acc: 0.8400\n",
      "Epoch 20/66\n",
      "5000/5000 [==============================] - 1s 252us/step - loss: 0.4280 - acc: 0.8162 - val_loss: 0.3889 - val_acc: 0.8380\n",
      "Epoch 21/66\n",
      "5000/5000 [==============================] - 1s 256us/step - loss: 0.4230 - acc: 0.8174 - val_loss: 0.3938 - val_acc: 0.8260\n",
      "Epoch 22/66\n",
      "5000/5000 [==============================] - 1s 261us/step - loss: 0.4110 - acc: 0.8236 - val_loss: 0.3775 - val_acc: 0.8380\n",
      "Epoch 23/66\n",
      "5000/5000 [==============================] - 1s 263us/step - loss: 0.4166 - acc: 0.8222 - val_loss: 0.3716 - val_acc: 0.8400\n",
      "Epoch 24/66\n",
      "5000/5000 [==============================] - 1s 285us/step - loss: 0.4010 - acc: 0.8334 - val_loss: 0.3861 - val_acc: 0.8420\n",
      "Epoch 25/66\n",
      "5000/5000 [==============================] - 1s 273us/step - loss: 0.3952 - acc: 0.8294 - val_loss: 0.3830 - val_acc: 0.8380\n",
      "Epoch 26/66\n",
      "5000/5000 [==============================] - 1s 270us/step - loss: 0.4100 - acc: 0.8224 - val_loss: 0.3739 - val_acc: 0.8380\n",
      "Epoch 27/66\n",
      "5000/5000 [==============================] - 1s 289us/step - loss: 0.3905 - acc: 0.8322 - val_loss: 0.3846 - val_acc: 0.8340\n",
      "Epoch 28/66\n",
      "5000/5000 [==============================] - 1s 291us/step - loss: 0.3903 - acc: 0.8392 - val_loss: 0.3787 - val_acc: 0.8280\n",
      "Epoch 29/66\n",
      "5000/5000 [==============================] - 1s 272us/step - loss: 0.3850 - acc: 0.8378 - val_loss: 0.3790 - val_acc: 0.8380\n",
      "Epoch 30/66\n",
      "5000/5000 [==============================] - 1s 278us/step - loss: 0.3736 - acc: 0.8388 - val_loss: 0.3698 - val_acc: 0.8400\n",
      "Epoch 31/66\n",
      "5000/5000 [==============================] - 2s 300us/step - loss: 0.3653 - acc: 0.8522 - val_loss: 0.3799 - val_acc: 0.8280\n",
      "Epoch 32/66\n",
      "5000/5000 [==============================] - 1s 270us/step - loss: 0.3748 - acc: 0.8406 - val_loss: 0.3724 - val_acc: 0.8380\n",
      "Epoch 33/66\n",
      "5000/5000 [==============================] - 1s 276us/step - loss: 0.3570 - acc: 0.8482 - val_loss: 0.3671 - val_acc: 0.8460\n",
      "Epoch 34/66\n",
      "5000/5000 [==============================] - 2s 305us/step - loss: 0.3516 - acc: 0.8494 - val_loss: 0.3695 - val_acc: 0.8400\n",
      "Epoch 35/66\n",
      "5000/5000 [==============================] - 1s 281us/step - loss: 0.3614 - acc: 0.8432 - val_loss: 0.3667 - val_acc: 0.8440\n",
      "Epoch 36/66\n",
      "5000/5000 [==============================] - 1s 291us/step - loss: 0.3517 - acc: 0.8492 - val_loss: 0.3893 - val_acc: 0.8220\n",
      "Epoch 37/66\n",
      "5000/5000 [==============================] - 2s 310us/step - loss: 0.3589 - acc: 0.8486 - val_loss: 0.3677 - val_acc: 0.8440\n",
      "Epoch 38/66\n",
      "5000/5000 [==============================] - 1s 287us/step - loss: 0.3571 - acc: 0.8456 - val_loss: 0.3746 - val_acc: 0.8440\n",
      "Epoch 39/66\n",
      "5000/5000 [==============================] - 2s 306us/step - loss: 0.3535 - acc: 0.8528 - val_loss: 0.3757 - val_acc: 0.8400\n",
      "Epoch 40/66\n",
      "5000/5000 [==============================] - 2s 399us/step - loss: 0.3494 - acc: 0.8526 - val_loss: 0.3768 - val_acc: 0.8440\n",
      "Epoch 41/66\n",
      "5000/5000 [==============================] - 2s 372us/step - loss: 0.3455 - acc: 0.8570 - val_loss: 0.3782 - val_acc: 0.8360\n",
      "Epoch 42/66\n",
      "5000/5000 [==============================] - 1s 300us/step - loss: 0.3503 - acc: 0.8524 - val_loss: 0.3720 - val_acc: 0.8320\n",
      "Epoch 43/66\n",
      "5000/5000 [==============================] - 2s 341us/step - loss: 0.3452 - acc: 0.8550 - val_loss: 0.3978 - val_acc: 0.8320\n",
      "Epoch 44/66\n",
      "5000/5000 [==============================] - 2s 306us/step - loss: 0.3433 - acc: 0.8544 - val_loss: 0.3767 - val_acc: 0.8340\n",
      "Epoch 45/66\n",
      "5000/5000 [==============================] - 1s 295us/step - loss: 0.3471 - acc: 0.8496 - val_loss: 0.3843 - val_acc: 0.8360\n",
      "Epoch 46/66\n",
      "5000/5000 [==============================] - 2s 326us/step - loss: 0.3417 - acc: 0.8558 - val_loss: 0.3786 - val_acc: 0.8380\n",
      "Epoch 47/66\n",
      "5000/5000 [==============================] - 2s 302us/step - loss: 0.3340 - acc: 0.8608 - val_loss: 0.3993 - val_acc: 0.8480\n",
      "Epoch 48/66\n",
      "5000/5000 [==============================] - 1s 284us/step - loss: 0.3375 - acc: 0.8606 - val_loss: 0.3925 - val_acc: 0.8420\n",
      "Epoch 49/66\n",
      "5000/5000 [==============================] - 1s 298us/step - loss: 0.3275 - acc: 0.8608 - val_loss: 0.3846 - val_acc: 0.8340\n",
      "Epoch 50/66\n",
      "5000/5000 [==============================] - 1s 291us/step - loss: 0.3235 - acc: 0.8698 - val_loss: 0.3817 - val_acc: 0.8380\n",
      "Epoch 51/66\n",
      "5000/5000 [==============================] - 2s 301us/step - loss: 0.3365 - acc: 0.8642 - val_loss: 0.3757 - val_acc: 0.8380\n",
      "Epoch 52/66\n",
      "5000/5000 [==============================] - 2s 310us/step - loss: 0.3374 - acc: 0.8626 - val_loss: 0.3740 - val_acc: 0.8380\n",
      "Epoch 53/66\n",
      "5000/5000 [==============================] - 1s 287us/step - loss: 0.3463 - acc: 0.8528 - val_loss: 0.3839 - val_acc: 0.8360\n",
      "Epoch 54/66\n",
      "5000/5000 [==============================] - 1s 298us/step - loss: 0.3323 - acc: 0.8652 - val_loss: 0.3762 - val_acc: 0.8340\n",
      "Epoch 55/66\n",
      "5000/5000 [==============================] - 2s 322us/step - loss: 0.3235 - acc: 0.8622 - val_loss: 0.3875 - val_acc: 0.8360\n",
      "Epoch 56/66\n",
      "5000/5000 [==============================] - 1s 286us/step - loss: 0.3241 - acc: 0.8628 - val_loss: 0.3677 - val_acc: 0.8280\n",
      "Epoch 57/66\n",
      "5000/5000 [==============================] - 2s 300us/step - loss: 0.3221 - acc: 0.8712 - val_loss: 0.3845 - val_acc: 0.8380\n",
      "Epoch 58/66\n",
      "5000/5000 [==============================] - 2s 375us/step - loss: 0.3096 - acc: 0.8784 - val_loss: 0.3912 - val_acc: 0.8280\n",
      "Epoch 59/66\n",
      "5000/5000 [==============================] - 2s 314us/step - loss: 0.3215 - acc: 0.8668 - val_loss: 0.3795 - val_acc: 0.8420\n",
      "Epoch 60/66\n",
      "5000/5000 [==============================] - 2s 320us/step - loss: 0.3115 - acc: 0.8694 - val_loss: 0.3841 - val_acc: 0.8280\n",
      "Epoch 61/66\n",
      "5000/5000 [==============================] - 1s 288us/step - loss: 0.3059 - acc: 0.8744 - val_loss: 0.3968 - val_acc: 0.8240\n",
      "Epoch 62/66\n",
      "5000/5000 [==============================] - 2s 307us/step - loss: 0.3085 - acc: 0.8708 - val_loss: 0.3919 - val_acc: 0.8400\n",
      "Epoch 63/66\n",
      "5000/5000 [==============================] - 2s 301us/step - loss: 0.3111 - acc: 0.8664 - val_loss: 0.3884 - val_acc: 0.8280\n",
      "Epoch 64/66\n",
      "5000/5000 [==============================] - 1s 285us/step - loss: 0.3091 - acc: 0.8772 - val_loss: 0.3894 - val_acc: 0.8380\n",
      "Epoch 65/66\n",
      "5000/5000 [==============================] - 1s 280us/step - loss: 0.3026 - acc: 0.8764 - val_loss: 0.3923 - val_acc: 0.8260\n",
      "Epoch 66/66\n",
      "5000/5000 [==============================] - 2s 306us/step - loss: 0.2955 - acc: 0.8708 - val_loss: 0.3776 - val_acc: 0.8540\n"
     ]
    },
    {
     "data": {
      "text/plain": [
       "Text(0, 0.5, 'Acc')"
      ]
     },
     "execution_count": 11,
     "metadata": {},
     "output_type": "execute_result"
    },
    {
     "data": {
      "image/png": "[encoded data removed]",
      "text/plain": [
       "<Figure size 432x288 with 1 Axes>"
      ]
     },
     "metadata": {
      "needs_background": "light"
     },
     "output_type": "display_data"
    }
   ],
   "source": [
    "# 重点是 optimizer 的选择，多做尝试\n",
    "\n",
    "model = Sequential()\n",
    "model.add(Dense(input_dim=32*32, units=666, activation='sigmoid'))\n",
    "model.add(Dropout(0.5))\n",
    "\n",
    "model.add(Dense(units=666, activation='sigmoid'))\n",
    "model.add(Dropout(0.5))\n",
    "\n",
    "model.add(Dense(units=42, activation='sigmoid'))\n",
    "model.add(Dropout(0.5))\n",
    "\n",
    "model.add(Dense(units=49, activation='sigmoid'))\n",
    "model.add(Dropout(0.5))\n",
    "\n",
    "model.add(Dense(units=49, activation='sigmoid'))\n",
    "model.add(Dropout(0.5))\n",
    "\n",
    "model.add(Dense(units=2, activation='softmax'))\n",
    "\n",
    "model.compile(loss='categorical_crossentropy', optimizer=Adamax(lr=0.002, beta_1=0.9, beta_2=0.999, epsilon=None, decay=0.0), metrics=['accuracy'])\n",
    "#model.compile(loss='categorical_crossentropy', optimizer=Nadam(lr=0.002, beta_1=0.9, beta_2=0.999, epsilon=None, schedule_decay=0.004), metrics=['accuracy'])\n",
    "\n",
    "history = model.fit(x_train, y_train, batch_size=100, epochs=66, validation_data=(x_test, y_test))\n",
    "\n",
    "# 对比train和test的accuracy\n",
    "training_acc = history.history['acc']\n",
    "test_acc = history.history['val_acc']\n",
    "\n",
    "epoch_count = range(1, len(training_acc) + 1)\n",
    "\n",
    "plt.plot(epoch_count, training_acc, 'r--')\n",
    "plt.plot(epoch_count, test_acc, 'b-')\n",
    "plt.legend(['Training Acc', 'Testing Acc'])\n",
    "plt.xlabel('Epoch')\n",
    "plt.ylabel('Acc')"
   ]
  },
  {
   "cell_type": "code",
   "execution_count": null,
   "metadata": {},
   "outputs": [],
   "source": []
  }
 ],
 "metadata": {
  "kernelspec": {
   "display_name": "Python 3",
   "language": "python",
   "name": "python3"
  },
  "language_info": {
   "codemirror_mode": {
    "name": "ipython",
    "version": 3
   },
   "file_extension": ".py",
   "mimetype": "text/x-python",
   "name": "python",
   "nbconvert_exporter": "python",
   "pygments_lexer": "ipython3",
   "version": "3.7.3"
  }
 },
 "nbformat": 4,
 "nbformat_minor": 2
}
